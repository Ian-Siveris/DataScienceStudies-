{
  "metadata": {
    "kernelspec": {
      "name": "python",
      "display_name": "Python (Pyodide)",
      "language": "python"
    },
    "language_info": {
      "codemirror_mode": {
        "name": "python",
        "version": 3
      },
      "file_extension": ".py",
      "mimetype": "text/x-python",
      "name": "python",
      "nbconvert_exporter": "python",
      "pygments_lexer": "ipython3",
      "version": "3.8"
    }
  },
  "nbformat_minor": 4,
  "nbformat": 4,
  "cells": [
    {
      "cell_type": "markdown",
      "source": "# Final Project of Tools for Data Science ",
      "metadata": {}
    },
    {
      "cell_type": "markdown",
      "source": "## Welcome to the \"Tools for Data Science\" course!\n#### *In this course, you will be guided through the key tools and techniques used in the field of data science. The goal is to equip you with an arsenal of essential resources to transform raw data into valuable insights. We will explore everything from programming and analysis tools to collaborative environments and data visualization platforms. You will learn how to use tools such as Python, R, Jupyter Notebooks, and analysis and visualization libraries. Additionally, we will cover best practices for working with large volumes of data and integrating diverse information sources. Get ready for a hands-on and dynamic learning journey that will enhance your skills and prepare you to tackle real-world data science challenges.*",
      "metadata": {}
    },
    {
      "cell_type": "markdown",
      "source": "# The main languages used in data science are: \n## *Python*\n## *R*\n## *Sql*\n## *julia*",
      "metadata": {}
    },
    {
      "cell_type": "markdown",
      "source": "# Some of the libraries we use for data science are: \n## *Python:*\n### *NumPy*\n### *pandas*\n### *Matplotlib*\n### *Seaborn*\n### *scikit-learn*\n### *TensorFlow* \n### *Keras*\n### *PyTorch*\n\n## **R:** \n### *ggplot2*\n### *dplyr* \n### *tidyr* \n### *caret*\n### *shiny* \n\n## **Julia:**\n### *DataFrames.jl*\n### *Plots.jl*\n### *StatsBase.jl*\n### *MLJ.jl*\n\n",
      "metadata": {}
    },
    {
      "cell_type": "markdown",
      "source": "# *Some of principal tools used in Data Science are:*\n\n\n| Jupyter Notebook | RStudio| Apache Spark |\n|:--------|:-----:|-----------------------:|\n| **Anaconda** | **Google Colab**| **Hadoop**  |\n\n",
      "metadata": {}
    },
    {
      "cell_type": "markdown",
      "source": "# **Some examples of arithmetical expressions are:**\n### **5 + 3**  \n### **Equals 8**\n\n### **10 - 4**  \n### **Equals 6**\n\n### **7 * 3**  \n### **Equals 21**\n\n### **25 / 5**  \n### **Equals 4**\n\n\n\n",
      "metadata": {}
    },
    {
      "cell_type": "code",
      "source": "##Multiplying and adding numbers in Python:\n\na = 7\nb = 5\n\nproduct = a * b\n\nsum = a + b\n\nprint(f\"Product of {a} and {b} is: {product}\")\nprint(f\"Sum of {a} and {b} is: {sum}\")",
      "metadata": {
        "trusted": true
      },
      "outputs": [
        {
          "name": "stdout",
          "text": "Product of 7 and 5 is: 35\nSum of 7 and 5 is: 12\n",
          "output_type": "stream"
        }
      ],
      "execution_count": 4
    },
    {
      "cell_type": "code",
      "source": "## Converting minutes to hours in Python: \n\ndef convert_min_in_hr(min):\n    hr = min // 60\n    min_remaining = min % 60\n    return hr, min_remaining\n\nmin_input = 125  # Number of minutes that you want to convert\nhr, min_remaining = convert_min_in_hr(min_input)\n\nprint(f\"{min_input} min equals: {hr} hours and {min_remaining} minutes.\")\n",
      "metadata": {
        "trusted": true
      },
      "outputs": [
        {
          "name": "stdout",
          "text": "125 min equals: 2 hours and 5 minutes.\n",
          "output_type": "stream"
        }
      ],
      "execution_count": 7
    },
    {
      "cell_type": "markdown",
      "source": "# Listing objectives\n\n- **Understand Basic Concepts**: Get familiar with fundamental concepts in data science and their applications.\n- **Learn Programming Languages**: Develop skills in languages such as Python and R for data analysis and visualization.\n- **Use Tools and Libraries**: Learn to use essential tools and libraries for data manipulation and analysis.\n- **Apply Modeling Techniques**: Implement data modeling and machine learning techniques to gain meaningful insights.\n- **Develop Practical Projects**: Create practical projects to apply acquired knowledge and solve real-world problems.\n- **Collaborate and Communicate**: Enhance collaboration and communication skills to present and share results clearly.\n",
      "metadata": {}
    },
    {
      "cell_type": "markdown",
      "source": "# Author\n\n## **Ian Marco Lima Siveris**\n",
      "metadata": {}
    },
    {
      "cell_type": "code",
      "source": "",
      "metadata": {
        "trusted": true
      },
      "outputs": [],
      "execution_count": null
    }
  ]
}